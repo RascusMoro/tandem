{
 "cells": [
  {
   "cell_type": "code",
   "execution_count": 7,
   "metadata": {},
   "outputs": [],
   "source": [
    "import random\n",
    "import pandas as pd"
   ]
  },
  {
   "cell_type": "code",
   "execution_count": 8,
   "metadata": {},
   "outputs": [],
   "source": [
    "db = pd.read_csv('tandem_db.csv', delimiter=',')"
   ]
  },
  {
   "cell_type": "code",
   "execution_count": 9,
   "metadata": {},
   "outputs": [
    {
     "data": {
      "text/html": [
       "<div>\n",
       "<style scoped>\n",
       "    .dataframe tbody tr th:only-of-type {\n",
       "        vertical-align: middle;\n",
       "    }\n",
       "\n",
       "    .dataframe tbody tr th {\n",
       "        vertical-align: top;\n",
       "    }\n",
       "\n",
       "    .dataframe thead th {\n",
       "        text-align: right;\n",
       "    }\n",
       "</style>\n",
       "<table border=\"1\" class=\"dataframe\">\n",
       "  <thead>\n",
       "    <tr style=\"text-align: right;\">\n",
       "      <th></th>\n",
       "      <th>German</th>\n",
       "      <th>Italian</th>\n",
       "    </tr>\n",
       "  </thead>\n",
       "  <tbody>\n",
       "    <tr>\n",
       "      <th>0</th>\n",
       "      <td>Guten Tag</td>\n",
       "      <td>Buongiorno</td>\n",
       "    </tr>\n",
       "    <tr>\n",
       "      <th>1</th>\n",
       "      <td>Guten Abend</td>\n",
       "      <td>Buonasera</td>\n",
       "    </tr>\n",
       "    <tr>\n",
       "      <th>2</th>\n",
       "      <td>Hallo</td>\n",
       "      <td>Ciao</td>\n",
       "    </tr>\n",
       "  </tbody>\n",
       "</table>\n",
       "</div>"
      ],
      "text/plain": [
       "        German      Italian\n",
       "0    Guten Tag   Buongiorno\n",
       "1  Guten Abend    Buonasera\n",
       "2        Hallo         Ciao"
      ]
     },
     "execution_count": 9,
     "metadata": {},
     "output_type": "execute_result"
    }
   ],
   "source": [
    "db"
   ]
  },
  {
   "cell_type": "code",
   "execution_count": 10,
   "metadata": {},
   "outputs": [],
   "source": [
    "def question_ge_it():\n",
    "    '''Prompts a german word and asks for the italian translation'''\n",
    "    n = random.randint(0, len(db) - 1)\n",
    "    ans = input(f\"{db.iloc[n,0]}\")\n",
    "\n",
    "    if ans == db.iloc[n,1].strip():\n",
    "        return True\n",
    "    return False"
   ]
  },
  {
   "cell_type": "code",
   "execution_count": 11,
   "metadata": {},
   "outputs": [],
   "source": [
    "def question_it_ge():\n",
    "    '''Prompts an italian word and asks for the german translation'''\n",
    "    n = random.randint(0, len(db) - 1)\n",
    "    ans = input(f\"{db.iloc[n,1]}\")\n",
    "\n",
    "    if ans == db.iloc[n,0].strip():\n",
    "        return True\n",
    "    return False"
   ]
  },
  {
   "cell_type": "code",
   "execution_count": 14,
   "metadata": {},
   "outputs": [],
   "source": [
    "def play():\n",
    "    mode = input(\"\"\"Choose mode:\\n\\\n",
    "        1) German -> Italian\\n\\\n",
    "        2) Italian -> German\\n\"\"\")\n",
    "    if mode == '1':\n",
    "        print(question_ge_it())\n",
    "    elif mode == '2':\n",
    "        print(question_it_ge())\n",
    "    else:\n",
    "        print(\"Invalid choice\")\n",
    "        play()"
   ]
  },
  {
   "cell_type": "code",
   "execution_count": 17,
   "metadata": {},
   "outputs": [
    {
     "name": "stdout",
     "output_type": "stream",
     "text": [
      "Invalid choice\n",
      "Invalid choice\n",
      "Invalid choice\n",
      "True\n"
     ]
    }
   ],
   "source": [
    "play()"
   ]
  }
 ],
 "metadata": {
  "kernelspec": {
   "display_name": "Python 3.10.6 64-bit ('shims')",
   "language": "python",
   "name": "python3"
  },
  "language_info": {
   "codemirror_mode": {
    "name": "ipython",
    "version": 3
   },
   "file_extension": ".py",
   "mimetype": "text/x-python",
   "name": "python",
   "nbconvert_exporter": "python",
   "pygments_lexer": "ipython3",
   "version": "3.10.6"
  },
  "orig_nbformat": 4,
  "vscode": {
   "interpreter": {
    "hash": "eff8310bf6c2d43b923ec5d5d5d25daad74fb4f25f888c786afe43a96e8cd2e6"
   }
  }
 },
 "nbformat": 4,
 "nbformat_minor": 2
}
